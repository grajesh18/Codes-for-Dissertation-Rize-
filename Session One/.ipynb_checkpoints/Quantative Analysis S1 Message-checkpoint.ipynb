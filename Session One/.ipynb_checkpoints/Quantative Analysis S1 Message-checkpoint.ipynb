{
 "cells": [
  {
   "cell_type": "code",
   "execution_count": 1,
   "id": "2c5da02e-26e6-4052-96dc-ac7ae0ab0b07",
   "metadata": {},
   "outputs": [
    {
     "name": "stdout",
     "output_type": "stream",
     "text": [
      "\n",
      "=== ChatGPT Summary Fluency Metrics ===\n",
      "Flesch Reading Ease: 68.24544262295082\n",
      "Flesch-Kincaid Grade Level: 6.771278688524593\n",
      "Dale-Chall Readability Score: 7.865554426229508\n",
      "Automated Readability Index: 7.139016393442624\n",
      "Avg Sentence Length: 12.2\n",
      "Lexicon Count (words): 61\n",
      "Sentence Count: 5\n",
      "\n",
      "=== DeepSeek Summary Fluency Metrics ===\n",
      "Flesch Reading Ease: 62.837983870967776\n",
      "Flesch-Kincaid Grade Level: 8.345322580645163\n",
      "Dale-Chall Readability Score: 9.498848387096775\n",
      "Automated Readability Index: 12.149032258064516\n",
      "Avg Sentence Length: 15.5\n",
      "Lexicon Count (words): 31\n",
      "Sentence Count: 2\n",
      "\n",
      "=== Meta Summary Fluency Metrics ===\n",
      "Flesch Reading Ease: 40.613157894736844\n",
      "Flesch-Kincaid Grade Level: 12.314736842105265\n",
      "Dale-Chall Readability Score: 9.565215789473683\n",
      "Automated Readability Index: 15.090526315789468\n",
      "Avg Sentence Length: 19.0\n",
      "Lexicon Count (words): 19\n",
      "Sentence Count: 1\n",
      "\n",
      "=== Moonshot Summary Fluency Metrics ===\n",
      "Flesch Reading Ease: 62.53253623188408\n",
      "Flesch-Kincaid Grade Level: 8.346521739130438\n",
      "Dale-Chall Readability Score: 7.48638115942029\n",
      "Automated Readability Index: 10.196231884057973\n",
      "Avg Sentence Length: 15.333333333333334\n",
      "Lexicon Count (words): 46\n",
      "Sentence Count: 3\n"
     ]
    },
    {
     "name": "stderr",
     "output_type": "stream",
     "text": [
      "C:\\Users\\Gautham Rajesh\\AppData\\Local\\Temp\\ipykernel_6880\\3565065854.py:33: DeprecationWarning: The 'avg_sentence_length' method has been deprecated due to being the same as 'words_per_sentence'. This method will be removed in thefuture.\n",
      "  print(\"Avg Sentence Length:\", textstat.avg_sentence_length(text))\n"
     ]
    }
   ],
   "source": [
    "# Importing the textstat library\n",
    "import textstat\n",
    "\n",
    "\n",
    "# Loading the generated summaries\n",
    "\n",
    "with open(\"S1 Message Chat Gpt.txt\", \"r\", encoding=\"utf-8\", errors=\"ignore\") as f:\n",
    "    chatgpt_summary = f.read()\n",
    "\n",
    "with open(\"S1 Message Deepseek.txt\", \"r\", encoding=\"utf-8\", errors=\"ignore\") as f:\n",
    "    deepseek_summary = f.read()\n",
    "\n",
    "with open(\"S1 Message Meta.txt\", \"r\", encoding=\"utf-8\", errors=\"ignore\") as f:\n",
    "    meta_summary = f.read()\n",
    "\n",
    "with open(\"S1 Message Moonshot.txt\", \"r\", encoding=\"utf-8\", errors=\"ignore\") as f:\n",
    "    moonshot_summary = f.read()\n",
    "\n",
    "\n",
    "# Defining a function for fluency metrics\n",
    "\n",
    "def fluency_metrics(text, label=\"Transcript\"):\n",
    "    print(f\"\\n=== {label} Fluency Metrics ===\")\n",
    "    # Calculating the Reading Ease with Flesch Reading Ease Score    \n",
    "    print(\"Flesch Reading Ease:\", textstat.flesch_reading_ease(text))\n",
    "    # Calculating the Flesh-Kincaid Grade Level for the Grade level required to understand the text    \n",
    "    print(\"Flesch-Kincaid Grade Level:\", textstat.flesch_kincaid_grade(text))\n",
    "    # Calculating the Dale-Chall Readability Score for Text Difficulty based on familiar word lists    \n",
    "    print(\"Dale-Chall Readability Score:\", textstat.dale_chall_readability_score(text))\n",
    "    # Another readability score using characters per word and words per sentence    \n",
    "    print(\"Automated Readability Index:\", textstat.automated_readability_index(text))\n",
    "    # Measures average number of words per sentence    \n",
    "    print(\"Avg Sentence Length:\", textstat.avg_sentence_length(text))\n",
    "    # Total number of unique words in the transcript to avoid overuse of same terms\n",
    "    print(\"Lexicon Count (words):\", textstat.lexicon_count(text, removepunct=True))\n",
    "    # Total number of sentences in the transcript    \n",
    "    print(\"Sentence Count:\", textstat.sentence_count(text))\n",
    "\n",
    "\n",
    "# Running the function on all summaries\n",
    "\n",
    "fluency_metrics(chatgpt_summary, \"ChatGPT Summary\")\n",
    "fluency_metrics(deepseek_summary, \"DeepSeek Summary\")\n",
    "fluency_metrics(meta_summary, \"Meta Summary\")\n",
    "fluency_metrics(moonshot_summary, \"Moonshot Summary\")\n"
   ]
  },
  {
   "cell_type": "code",
   "execution_count": null,
   "id": "a071e555-9805-40c2-9db5-bc9180d99aca",
   "metadata": {},
   "outputs": [],
   "source": []
  }
 ],
 "metadata": {
  "kernelspec": {
   "display_name": "Python 3 (ipykernel)",
   "language": "python",
   "name": "python3"
  },
  "language_info": {
   "codemirror_mode": {
    "name": "ipython",
    "version": 3
   },
   "file_extension": ".py",
   "mimetype": "text/x-python",
   "name": "python",
   "nbconvert_exporter": "python",
   "pygments_lexer": "ipython3",
   "version": "3.12.7"
  }
 },
 "nbformat": 4,
 "nbformat_minor": 5
}
