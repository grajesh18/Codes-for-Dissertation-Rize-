{
 "cells": [
  {
   "cell_type": "code",
   "execution_count": 3,
   "id": "bd1be4a8-50de-4739-8df3-d463a87aa706",
   "metadata": {},
   "outputs": [
    {
     "name": "stdout",
     "output_type": "stream",
     "text": [
      "\n",
      "=== Golden Transcript Fluency Metrics ===\n",
      "Flesch Reading Ease: 78.07669970682676\n",
      "Flesch-Kincaid Grade Level: 6.306827989514016\n",
      "Dale-Chall Readability Score: 7.842828405747643\n",
      "Automated Readability Index: 6.60784681294183\n",
      "Avg Sentence Length: 15.850202429149798\n",
      "Lexicon Count (words): 7830\n",
      "Sentence Count: 494\n",
      "\n",
      "=== Generated Transcript Fluency Metrics ===\n",
      "Flesch Reading Ease: 74.16460365188672\n",
      "Flesch-Kincaid Grade Level: 6.467002461595989\n",
      "Dale-Chall Readability Score: 8.466269644470756\n",
      "Automated Readability Index: 7.118288178107374\n",
      "Avg Sentence Length: 14.298507462686567\n",
      "Lexicon Count (words): 1916\n",
      "Sentence Count: 134\n"
     ]
    },
    {
     "name": "stderr",
     "output_type": "stream",
     "text": [
      "C:\\Users\\Gautham Rajesh\\AppData\\Local\\Temp\\ipykernel_19360\\3749537379.py:21: DeprecationWarning: The 'avg_sentence_length' method has been deprecated due to being the same as 'words_per_sentence'. This method will be removed in thefuture.\n",
      "  print(\"Avg Sentence Length:\", textstat.avg_sentence_length(text))\n"
     ]
    }
   ],
   "source": [
    "#Importing the texstat library\n",
    "import textstat\n",
    "# Loading the golden transcript\n",
    "with open(\"Session One.txt\", \"r\", encoding=\"utf-8\") as f:\n",
    "    golden = f.read()\n",
    "#Loading the generated transcript from Meta\n",
    "with open(\"Chat Gpt S1.txt\", \"r\", encoding=\"utf-8\", errors=\"ignore\") as f:\n",
    "    generated = f.read()\n",
    "#Defining a function called fluency metrices\n",
    "def fluency_metrics(text, label=\"Transcript\"):\n",
    "    print(f\"\\n=== {label} Fluency Metrics ===\")\n",
    "#Calculating the Reading Ease with Flesch Reading Ease Score    \n",
    "    print(\"Flesch Reading Ease:\", textstat.flesch_reading_ease(text))\n",
    "#Calculating the Flesh-Kincaid Grade Level for the Grade level required to understand the text    \n",
    "    print(\"Flesch-Kincaid Grade Level:\", textstat.flesch_kincaid_grade(text))\n",
    "#Calculating the Dale-Chall Readability Score for Text Difficulty based on familiar word lists    \n",
    "    print(\"Dale-Chall Readability Score:\", textstat.dale_chall_readability_score(text))\n",
    "#Another readability score using characters per word and words per sentence    \n",
    "    print(\"Automated Readability Index:\", textstat.automated_readability_index(text))\n",
    "#Measures average number of words per sentence    \n",
    "    print(\"Avg Sentence Length:\", textstat.avg_sentence_length(text))\n",
    "#Total number of unique words in the transcript to avoid overuse of same terms\n",
    "    print(\"Lexicon Count (words):\", textstat.lexicon_count(text, removepunct=True))\n",
    "#Total number of sentences in the transcript    \n",
    "    print(\"Sentence Count:\", textstat.sentence_count(text))\n",
    "\n",
    "# Running the functino on both Transcripts\n",
    "fluency_metrics(golden, \"Golden Transcript\")\n",
    "fluency_metrics(generated, \"Generated Transcript\")\n",
    "\n"
   ]
  },
  {
   "cell_type": "code",
   "execution_count": 5,
   "id": "4fa23b82-6179-4413-b041-d5f4dc63c7d7",
   "metadata": {},
   "outputs": [
    {
     "name": "stdout",
     "output_type": "stream",
     "text": [
      "\n",
      "=== Golden Transcript Fluency Metrics ===\n",
      "Flesch Reading Ease: 78.07669970682676\n",
      "Flesch-Kincaid Grade Level: 6.306827989514016\n",
      "Dale-Chall Readability Score: 7.842828405747643\n",
      "Automated Readability Index: 6.60784681294183\n",
      "Avg Sentence Length: 15.850202429149798\n",
      "Lexicon Count (words): 7830\n",
      "Sentence Count: 494\n",
      "\n",
      "=== Generated Transcript Fluency Metrics ===\n",
      "Flesch Reading Ease: 67.42494675889944\n",
      "Flesch-Kincaid Grade Level: 6.184546312540252\n",
      "Dale-Chall Readability Score: 9.548231536052942\n",
      "Automated Readability Index: 7.544713010204081\n",
      "Avg Sentence Length: 9.377551020408163\n",
      "Lexicon Count (words): 919\n",
      "Sentence Count: 98\n"
     ]
    },
    {
     "name": "stderr",
     "output_type": "stream",
     "text": [
      "C:\\Users\\Gautham Rajesh\\AppData\\Local\\Temp\\ipykernel_19360\\2577085984.py:21: DeprecationWarning: The 'avg_sentence_length' method has been deprecated due to being the same as 'words_per_sentence'. This method will be removed in thefuture.\n",
      "  print(\"Avg Sentence Length:\", textstat.avg_sentence_length(text))\n"
     ]
    }
   ],
   "source": [
    "#Importing the texstat library\n",
    "import textstat\n",
    "# Loading the golden transcript\n",
    "with open(\"Session One.txt\", \"r\", encoding=\"utf-8\") as f:\n",
    "    golden = f.read()\n",
    "#Loading the generated transcript from Meta\n",
    "with open(\"Deepseek S1.txt\", \"r\", encoding=\"utf-8\", errors=\"ignore\") as f:\n",
    "    generated = f.read()\n",
    "#Defining a function called fluency metrices\n",
    "def fluency_metrics(text, label=\"Transcript\"):\n",
    "    print(f\"\\n=== {label} Fluency Metrics ===\")\n",
    "#Calculating the Reading Ease with Flesch Reading Ease Score    \n",
    "    print(\"Flesch Reading Ease:\", textstat.flesch_reading_ease(text))\n",
    "#Calculating the Flesh-Kincaid Grade Level for the Grade level required to understand the text    \n",
    "    print(\"Flesch-Kincaid Grade Level:\", textstat.flesch_kincaid_grade(text))\n",
    "#Calculating the Dale-Chall Readability Score for Text Difficulty based on familiar word lists    \n",
    "    print(\"Dale-Chall Readability Score:\", textstat.dale_chall_readability_score(text))\n",
    "#Another readability score using characters per word and words per sentence    \n",
    "    print(\"Automated Readability Index:\", textstat.automated_readability_index(text))\n",
    "#Measures average number of words per sentence    \n",
    "    print(\"Avg Sentence Length:\", textstat.avg_sentence_length(text))\n",
    "#Total number of unique words in the transcript to avoid overuse of same terms\n",
    "    print(\"Lexicon Count (words):\", textstat.lexicon_count(text, removepunct=True))\n",
    "#Total number of sentences in the transcript    \n",
    "    print(\"Sentence Count:\", textstat.sentence_count(text))\n",
    "\n",
    "# Running the functino on both Transcripts\n",
    "fluency_metrics(golden, \"Golden Transcript\")\n",
    "fluency_metrics(generated, \"Generated Transcript\")\n",
    "\n"
   ]
  },
  {
   "cell_type": "code",
   "execution_count": 7,
   "id": "97054e97-a756-4b78-a7c1-ec24da435366",
   "metadata": {},
   "outputs": [
    {
     "name": "stdout",
     "output_type": "stream",
     "text": [
      "\n",
      "=== Golden Transcript Fluency Metrics ===\n",
      "Flesch Reading Ease: 78.07669970682676\n",
      "Flesch-Kincaid Grade Level: 6.306827989514016\n",
      "Dale-Chall Readability Score: 7.842828405747643\n",
      "Automated Readability Index: 6.60784681294183\n",
      "Avg Sentence Length: 15.850202429149798\n",
      "Lexicon Count (words): 7830\n",
      "Sentence Count: 494\n",
      "\n",
      "=== Generated Transcript Fluency Metrics ===\n",
      "Flesch Reading Ease: 80.81758883248733\n",
      "Flesch-Kincaid Grade Level: 5.362089386778695\n",
      "Dale-Chall Readability Score: 7.863793797771166\n",
      "Automated Readability Index: 6.255260808681953\n",
      "Avg Sentence Length: 13.586206896551724\n",
      "Lexicon Count (words): 1182\n",
      "Sentence Count: 87\n"
     ]
    },
    {
     "name": "stderr",
     "output_type": "stream",
     "text": [
      "C:\\Users\\Gautham Rajesh\\AppData\\Local\\Temp\\ipykernel_19360\\1495302753.py:21: DeprecationWarning: The 'avg_sentence_length' method has been deprecated due to being the same as 'words_per_sentence'. This method will be removed in thefuture.\n",
      "  print(\"Avg Sentence Length:\", textstat.avg_sentence_length(text))\n"
     ]
    }
   ],
   "source": [
    "#Importing the texstat library\n",
    "import textstat\n",
    "# Loading the golden transcript\n",
    "with open(\"Session One.txt\", \"r\", encoding=\"utf-8\") as f:\n",
    "    golden = f.read()\n",
    "#Loading the generated transcript from Meta\n",
    "with open(\"Meta S1.txt\", \"r\", encoding=\"utf-8\", errors=\"ignore\") as f:\n",
    "    generated = f.read()\n",
    "#Defining a function called fluency metrices\n",
    "def fluency_metrics(text, label=\"Transcript\"):\n",
    "    print(f\"\\n=== {label} Fluency Metrics ===\")\n",
    "#Calculating the Reading Ease with Flesch Reading Ease Score    \n",
    "    print(\"Flesch Reading Ease:\", textstat.flesch_reading_ease(text))\n",
    "#Calculating the Flesh-Kincaid Grade Level for the Grade level required to understand the text    \n",
    "    print(\"Flesch-Kincaid Grade Level:\", textstat.flesch_kincaid_grade(text))\n",
    "#Calculating the Dale-Chall Readability Score for Text Difficulty based on familiar word lists    \n",
    "    print(\"Dale-Chall Readability Score:\", textstat.dale_chall_readability_score(text))\n",
    "#Another readability score using characters per word and words per sentence    \n",
    "    print(\"Automated Readability Index:\", textstat.automated_readability_index(text))\n",
    "#Measures average number of words per sentence    \n",
    "    print(\"Avg Sentence Length:\", textstat.avg_sentence_length(text))\n",
    "#Total number of unique words in the transcript to avoid overuse of same terms\n",
    "    print(\"Lexicon Count (words):\", textstat.lexicon_count(text, removepunct=True))\n",
    "#Total number of sentences in the transcript    \n",
    "    print(\"Sentence Count:\", textstat.sentence_count(text))\n",
    "\n",
    "# Running the functino on both Transcripts\n",
    "fluency_metrics(golden, \"Golden Transcript\")\n",
    "fluency_metrics(generated, \"Generated Transcript\")\n",
    "\n"
   ]
  },
  {
   "cell_type": "code",
   "execution_count": 9,
   "id": "c68a000f-1478-42a8-9dcf-4ef07bd05a3d",
   "metadata": {},
   "outputs": [
    {
     "name": "stdout",
     "output_type": "stream",
     "text": [
      "\n",
      "=== Golden Transcript Fluency Metrics ===\n",
      "Flesch Reading Ease: 78.07669970682676\n",
      "Flesch-Kincaid Grade Level: 6.306827989514016\n",
      "Dale-Chall Readability Score: 7.842828405747643\n",
      "Automated Readability Index: 6.60784681294183\n",
      "Avg Sentence Length: 15.850202429149798\n",
      "Lexicon Count (words): 7830\n",
      "Sentence Count: 494\n",
      "\n",
      "=== Generated Transcript Fluency Metrics ===\n",
      "Flesch Reading Ease: 74.22409941084614\n",
      "Flesch-Kincaid Grade Level: 5.944622018739352\n",
      "Dale-Chall Readability Score: 8.968410221465078\n",
      "Automated Readability Index: 6.742147217490061\n",
      "Avg Sentence Length: 12.229166666666666\n",
      "Lexicon Count (words): 1761\n",
      "Sentence Count: 144\n"
     ]
    },
    {
     "name": "stderr",
     "output_type": "stream",
     "text": [
      "C:\\Users\\Gautham Rajesh\\AppData\\Local\\Temp\\ipykernel_19360\\1428087953.py:21: DeprecationWarning: The 'avg_sentence_length' method has been deprecated due to being the same as 'words_per_sentence'. This method will be removed in thefuture.\n",
      "  print(\"Avg Sentence Length:\", textstat.avg_sentence_length(text))\n"
     ]
    }
   ],
   "source": [
    "#Importing the texstat library\n",
    "import textstat\n",
    "# Loading the golden transcript\n",
    "with open(\"Session One.txt\", \"r\", encoding=\"utf-8\") as f:\n",
    "    golden = f.read()\n",
    "#Loading the generated transcript from Meta\n",
    "with open(\"Moonshot S1.txt\", \"r\", encoding=\"utf-8\", errors=\"ignore\") as f:\n",
    "    generated = f.read()\n",
    "#Defining a function called fluency metrices\n",
    "def fluency_metrics(text, label=\"Transcript\"):\n",
    "    print(f\"\\n=== {label} Fluency Metrics ===\")\n",
    "#Calculating the Reading Ease with Flesch Reading Ease Score    \n",
    "    print(\"Flesch Reading Ease:\", textstat.flesch_reading_ease(text))\n",
    "#Calculating the Flesh-Kincaid Grade Level for the Grade level required to understand the text    \n",
    "    print(\"Flesch-Kincaid Grade Level:\", textstat.flesch_kincaid_grade(text))\n",
    "#Calculating the Dale-Chall Readability Score for Text Difficulty based on familiar word lists    \n",
    "    print(\"Dale-Chall Readability Score:\", textstat.dale_chall_readability_score(text))\n",
    "#Another readability score using characters per word and words per sentence    \n",
    "    print(\"Automated Readability Index:\", textstat.automated_readability_index(text))\n",
    "#Measures average number of words per sentence    \n",
    "    print(\"Avg Sentence Length:\", textstat.avg_sentence_length(text))\n",
    "#Total number of unique words in the transcript to avoid overuse of same terms\n",
    "    print(\"Lexicon Count (words):\", textstat.lexicon_count(text, removepunct=True))\n",
    "#Total number of sentences in the transcript    \n",
    "    print(\"Sentence Count:\", textstat.sentence_count(text))\n",
    "\n",
    "# Running the functino on both Transcripts\n",
    "fluency_metrics(golden, \"Golden Transcript\")\n",
    "fluency_metrics(generated, \"Generated Transcript\")\n",
    "\n"
   ]
  },
  {
   "cell_type": "code",
   "execution_count": null,
   "id": "51456b1f-6fbf-44a0-8c5a-aab6b8785898",
   "metadata": {},
   "outputs": [],
   "source": []
  }
 ],
 "metadata": {
  "kernelspec": {
   "display_name": "Python 3 (ipykernel)",
   "language": "python",
   "name": "python3"
  },
  "language_info": {
   "codemirror_mode": {
    "name": "ipython",
    "version": 3
   },
   "file_extension": ".py",
   "mimetype": "text/x-python",
   "name": "python",
   "nbconvert_exporter": "python",
   "pygments_lexer": "ipython3",
   "version": "3.12.7"
  }
 },
 "nbformat": 4,
 "nbformat_minor": 5
}
