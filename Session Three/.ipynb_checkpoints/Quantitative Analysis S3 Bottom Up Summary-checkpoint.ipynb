{
 "cells": [
  {
   "cell_type": "code",
   "execution_count": 1,
   "id": "5d1f5a95-dad0-4ed9-a245-d5b5569d950d",
   "metadata": {},
   "outputs": [
    {
     "name": "stdout",
     "output_type": "stream",
     "text": [
      "\n",
      "=== ChatGPT Summary Fluency Metrics ===\n",
      "Flesch Reading Ease: 17.802888386123698\n",
      "Flesch-Kincaid Grade Level: 16.004996767937946\n",
      "Dale-Chall Readability Score: 12.754081814264167\n",
      "Automated Readability Index: 18.398108166343462\n",
      "Avg Sentence Length: 21.047619047619047\n",
      "Lexicon Count (words): 442\n",
      "Sentence Count: 21\n",
      "\n",
      "=== DeepSeek Summary Fluency Metrics ===\n",
      "Flesch Reading Ease: 25.40695427728616\n",
      "Flesch-Kincaid Grade Level: 14.39429203539823\n",
      "Dale-Chall Readability Score: 13.010597935103245\n",
      "Automated Readability Index: 17.72929275362319\n",
      "Avg Sentence Length: 18.833333333333332\n",
      "Lexicon Count (words): 565\n",
      "Sentence Count: 30\n",
      "\n",
      "=== Meta Summary Fluency Metrics ===\n",
      "Flesch Reading Ease: 27.35824758101674\n",
      "Flesch-Kincaid Grade Level: 15.040334818000307\n",
      "Dale-Chall Readability Score: 12.422209476270927\n",
      "Automated Readability Index: 17.467525725694976\n",
      "Avg Sentence Length: 22.529411764705884\n",
      "Lexicon Count (words): 383\n",
      "Sentence Count: 17\n",
      "\n",
      "=== Moonshot Summary Fluency Metrics ===\n",
      "Flesch Reading Ease: 29.11550038714674\n",
      "Flesch-Kincaid Grade Level: 13.159343786295008\n",
      "Dale-Chall Readability Score: 12.73497510646535\n",
      "Automated Readability Index: 13.954748173779315\n",
      "Avg Sentence Length: 15.944444444444445\n",
      "Lexicon Count (words): 287\n",
      "Sentence Count: 18\n"
     ]
    },
    {
     "name": "stderr",
     "output_type": "stream",
     "text": [
      "C:\\Users\\Gautham Rajesh\\AppData\\Local\\Temp\\ipykernel_28756\\4002238485.py:33: DeprecationWarning: The 'avg_sentence_length' method has been deprecated due to being the same as 'words_per_sentence'. This method will be removed in thefuture.\n",
      "  print(\"Avg Sentence Length:\", textstat.avg_sentence_length(text))\n"
     ]
    }
   ],
   "source": [
    "# Importing the textstat library\n",
    "import textstat\n",
    "\n",
    "\n",
    "# Loading the generated summaries\n",
    "\n",
    "with open(\"Chat Gpt S3 Bottom Up Summary.txt\", \"r\", encoding=\"utf-8\", errors=\"ignore\") as f:\n",
    "    chatgpt_summary = f.read()\n",
    "\n",
    "with open(\"DeepSeek S3 Bottom Up Summary.txt\", \"r\", encoding=\"utf-8\", errors=\"ignore\") as f:\n",
    "    deepseek_summary = f.read()\n",
    "\n",
    "with open(\"Meta S3 Bottom Up Summary.txt\", \"r\", encoding=\"utf-8\", errors=\"ignore\") as f:\n",
    "    meta_summary = f.read()\n",
    "\n",
    "with open(\"Moonshot S3 Bottom Up Summary.txt\", \"r\", encoding=\"utf-8\", errors=\"ignore\") as f:\n",
    "    moonshot_summary = f.read()\n",
    "\n",
    "\n",
    "# Defining a function for fluency metrics\n",
    "\n",
    "def fluency_metrics(text, label=\"Transcript\"):\n",
    "    print(f\"\\n=== {label} Fluency Metrics ===\")\n",
    "    # Calculating the Reading Ease with Flesch Reading Ease Score    \n",
    "    print(\"Flesch Reading Ease:\", textstat.flesch_reading_ease(text))\n",
    "    # Calculating the Flesh-Kincaid Grade Level for the Grade level required to understand the text    \n",
    "    print(\"Flesch-Kincaid Grade Level:\", textstat.flesch_kincaid_grade(text))\n",
    "    # Calculating the Dale-Chall Readability Score for Text Difficulty based on familiar word lists    \n",
    "    print(\"Dale-Chall Readability Score:\", textstat.dale_chall_readability_score(text))\n",
    "    # Another readability score using characters per word and words per sentence    \n",
    "    print(\"Automated Readability Index:\", textstat.automated_readability_index(text))\n",
    "    # Measures average number of words per sentence    \n",
    "    print(\"Avg Sentence Length:\", textstat.avg_sentence_length(text))\n",
    "    # Total number of unique words in the transcript to avoid overuse of same terms\n",
    "    print(\"Lexicon Count (words):\", textstat.lexicon_count(text, removepunct=True))\n",
    "    # Total number of sentences in the transcript    \n",
    "    print(\"Sentence Count:\", textstat.sentence_count(text))\n",
    "\n",
    "\n",
    "# Running the function on all summaries\n",
    "\n",
    "fluency_metrics(chatgpt_summary, \"ChatGPT Summary\")\n",
    "fluency_metrics(deepseek_summary, \"DeepSeek Summary\")\n",
    "fluency_metrics(meta_summary, \"Meta Summary\")\n",
    "fluency_metrics(moonshot_summary, \"Moonshot Summary\")\n"
   ]
  },
  {
   "cell_type": "code",
   "execution_count": null,
   "id": "7fe8b8a4-eae6-4075-8d50-6c1d98dca660",
   "metadata": {},
   "outputs": [],
   "source": []
  }
 ],
 "metadata": {
  "kernelspec": {
   "display_name": "Python 3 (ipykernel)",
   "language": "python",
   "name": "python3"
  },
  "language_info": {
   "codemirror_mode": {
    "name": "ipython",
    "version": 3
   },
   "file_extension": ".py",
   "mimetype": "text/x-python",
   "name": "python",
   "nbconvert_exporter": "python",
   "pygments_lexer": "ipython3",
   "version": "3.12.7"
  }
 },
 "nbformat": 4,
 "nbformat_minor": 5
}
