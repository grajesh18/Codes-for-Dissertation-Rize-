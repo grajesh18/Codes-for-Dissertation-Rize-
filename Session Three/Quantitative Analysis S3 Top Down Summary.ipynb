{
 "cells": [
  {
   "cell_type": "code",
   "execution_count": 1,
   "id": "629024f0-0ef4-48a4-8d33-60ff228f3491",
   "metadata": {},
   "outputs": [
    {
     "name": "stdout",
     "output_type": "stream",
     "text": [
      "\n",
      "=== ChatGPT Summary Fluency Metrics ===\n",
      "Flesch Reading Ease: 15.951739130434817\n",
      "Flesch-Kincaid Grade Level: 17.74193236714976\n",
      "Dale-Chall Readability Score: 12.578292592592591\n",
      "Automated Readability Index: 20.760930979133228\n",
      "Avg Sentence Length: 27.0\n",
      "Lexicon Count (words): 621\n",
      "Sentence Count: 23\n",
      "\n",
      "=== DeepSeek Summary Fluency Metrics ===\n",
      "Flesch Reading Ease: 33.00462553066512\n",
      "Flesch-Kincaid Grade Level: 13.687953434971835\n",
      "Dale-Chall Readability Score: 11.457537396203243\n",
      "Automated Readability Index: 15.842799874151176\n",
      "Avg Sentence Length: 20.25581395348837\n",
      "Lexicon Count (words): 871\n",
      "Sentence Count: 43\n",
      "\n",
      "=== Meta Summary Fluency Metrics ===\n",
      "Flesch Reading Ease: 54.39931354359928\n",
      "Flesch-Kincaid Grade Level: 10.289047405796175\n",
      "Dale-Chall Readability Score: 9.655704247968782\n",
      "Automated Readability Index: 11.675255581856568\n",
      "Avg Sentence Length: 18.586206896551722\n",
      "Lexicon Count (words): 539\n",
      "Sentence Count: 29\n",
      "\n",
      "=== Moonshot Summary Fluency Metrics ===\n",
      "Flesch Reading Ease: 33.77362244897961\n",
      "Flesch-Kincaid Grade Level: 14.635068027210885\n",
      "Dale-Chall Readability Score: 12.317040136054421\n",
      "Automated Readability Index: 16.970808080808077\n",
      "Avg Sentence Length: 24.5\n",
      "Lexicon Count (words): 294\n",
      "Sentence Count: 12\n"
     ]
    },
    {
     "name": "stderr",
     "output_type": "stream",
     "text": [
      "C:\\Users\\Gautham Rajesh\\AppData\\Local\\Temp\\ipykernel_6272\\2382207287.py:33: DeprecationWarning: The 'avg_sentence_length' method has been deprecated due to being the same as 'words_per_sentence'. This method will be removed in thefuture.\n",
      "  print(\"Avg Sentence Length:\", textstat.avg_sentence_length(text))\n"
     ]
    }
   ],
   "source": [
    "# Importing the textstat library\n",
    "import textstat\n",
    "\n",
    "\n",
    "# Loading the generated summaries\n",
    "\n",
    "with open(\"Chat Gpt S3 Top Down Summary.txt\", \"r\", encoding=\"utf-8\", errors=\"ignore\") as f:\n",
    "    chatgpt_summary = f.read()\n",
    "\n",
    "with open(\"DeepSeek S3 Top Down Summary.txt\", \"r\", encoding=\"utf-8\", errors=\"ignore\") as f:\n",
    "    deepseek_summary = f.read()\n",
    "\n",
    "with open(\"Meta S3 Top Down Summary.txt\", \"r\", encoding=\"utf-8\", errors=\"ignore\") as f:\n",
    "    meta_summary = f.read()\n",
    "\n",
    "with open(\"Moonshot S3 Top Down Summary.txt\", \"r\", encoding=\"utf-8\", errors=\"ignore\") as f:\n",
    "    moonshot_summary = f.read()\n",
    "\n",
    "\n",
    "# Defining a function for fluency metrics\n",
    "\n",
    "def fluency_metrics(text, label=\"Transcript\"):\n",
    "    print(f\"\\n=== {label} Fluency Metrics ===\")\n",
    "    # Calculating the Reading Ease with Flesch Reading Ease Score    \n",
    "    print(\"Flesch Reading Ease:\", textstat.flesch_reading_ease(text))\n",
    "    # Calculating the Flesh-Kincaid Grade Level for the Grade level required to understand the text    \n",
    "    print(\"Flesch-Kincaid Grade Level:\", textstat.flesch_kincaid_grade(text))\n",
    "    # Calculating the Dale-Chall Readability Score for Text Difficulty based on familiar word lists    \n",
    "    print(\"Dale-Chall Readability Score:\", textstat.dale_chall_readability_score(text))\n",
    "    # Another readability score using characters per word and words per sentence    \n",
    "    print(\"Automated Readability Index:\", textstat.automated_readability_index(text))\n",
    "    # Measures average number of words per sentence    \n",
    "    print(\"Avg Sentence Length:\", textstat.avg_sentence_length(text))\n",
    "    # Total number of unique words in the transcript to avoid overuse of same terms\n",
    "    print(\"Lexicon Count (words):\", textstat.lexicon_count(text, removepunct=True))\n",
    "    # Total number of sentences in the transcript    \n",
    "    print(\"Sentence Count:\", textstat.sentence_count(text))\n",
    "\n",
    "\n",
    "# Running the function on all summaries\n",
    "\n",
    "fluency_metrics(chatgpt_summary, \"ChatGPT Summary\")\n",
    "fluency_metrics(deepseek_summary, \"DeepSeek Summary\")\n",
    "fluency_metrics(meta_summary, \"Meta Summary\")\n",
    "fluency_metrics(moonshot_summary, \"Moonshot Summary\")\n"
   ]
  },
  {
   "cell_type": "code",
   "execution_count": null,
   "id": "a5d89b38-45af-4424-978f-5ce3b439e936",
   "metadata": {},
   "outputs": [],
   "source": []
  }
 ],
 "metadata": {
  "kernelspec": {
   "display_name": "Python 3 (ipykernel)",
   "language": "python",
   "name": "python3"
  },
  "language_info": {
   "codemirror_mode": {
    "name": "ipython",
    "version": 3
   },
   "file_extension": ".py",
   "mimetype": "text/x-python",
   "name": "python",
   "nbconvert_exporter": "python",
   "pygments_lexer": "ipython3",
   "version": "3.12.7"
  }
 },
 "nbformat": 4,
 "nbformat_minor": 5
}
