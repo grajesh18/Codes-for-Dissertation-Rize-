{
 "cells": [
  {
   "cell_type": "code",
   "execution_count": 1,
   "id": "db64f4cd-826e-4fed-808f-efd94c0ce9c5",
   "metadata": {},
   "outputs": [
    {
     "name": "stdout",
     "output_type": "stream",
     "text": [
      "\n",
      "=== ChatGPT Summary Fluency Metrics ===\n",
      "Flesch Reading Ease: 30.812041650059797\n",
      "Flesch-Kincaid Grade Level: 14.493963730569948\n",
      "Dale-Chall Readability Score: 11.858825866879235\n",
      "Automated Readability Index: 16.723033751962326\n",
      "Avg Sentence Length: 22.26923076923077\n",
      "Lexicon Count (words): 579\n",
      "Sentence Count: 26\n",
      "\n",
      "=== DeepSeek Summary Fluency Metrics ===\n",
      "Flesch Reading Ease: 23.8313752568358\n",
      "Flesch-Kincaid Grade Level: 14.786573020388811\n",
      "Dale-Chall Readability Score: 12.668534392287025\n",
      "Automated Readability Index: 17.156472222222227\n",
      "Avg Sentence Length: 19.52777777777778\n",
      "Lexicon Count (words): 703\n",
      "Sentence Count: 36\n",
      "\n",
      "=== Meta Summary Fluency Metrics ===\n",
      "Flesch Reading Ease: 54.431020793950864\n",
      "Flesch-Kincaid Grade Level: 11.381134215500946\n",
      "Dale-Chall Readability Score: 10.150078827977316\n",
      "Automated Readability Index: 13.611096408317579\n",
      "Avg Sentence Length: 23.0\n",
      "Lexicon Count (words): 529\n",
      "Sentence Count: 23\n",
      "\n",
      "=== Moonshot Summary Fluency Metrics ===\n",
      "Flesch Reading Ease: 24.98053030303032\n",
      "Flesch-Kincaid Grade Level: 15.695909090909094\n",
      "Dale-Chall Readability Score: 12.713633333333334\n",
      "Automated Readability Index: 18.078465974625146\n",
      "Avg Sentence Length: 23.833333333333332\n",
      "Lexicon Count (words): 286\n",
      "Sentence Count: 12\n"
     ]
    },
    {
     "name": "stderr",
     "output_type": "stream",
     "text": [
      "C:\\Users\\Gautham Rajesh\\AppData\\Local\\Temp\\ipykernel_10148\\242293954.py:33: DeprecationWarning: The 'avg_sentence_length' method has been deprecated due to being the same as 'words_per_sentence'. This method will be removed in thefuture.\n",
      "  print(\"Avg Sentence Length:\", textstat.avg_sentence_length(text))\n"
     ]
    }
   ],
   "source": [
    "# Importing the textstat library\n",
    "import textstat\n",
    "\n",
    "\n",
    "# Loading the generated summaries\n",
    "\n",
    "with open(\"Chat Gpt S2 Top Down Summary.txt\", \"r\", encoding=\"utf-8\", errors=\"ignore\") as f:\n",
    "    chatgpt_summary = f.read()\n",
    "\n",
    "with open(\"DeepSeek S2 Top Down Summary.txt\", \"r\", encoding=\"utf-8\", errors=\"ignore\") as f:\n",
    "    deepseek_summary = f.read()\n",
    "\n",
    "with open(\"Meta S2 Top Down Summary.txt\", \"r\", encoding=\"utf-8\", errors=\"ignore\") as f:\n",
    "    meta_summary = f.read()\n",
    "\n",
    "with open(\"Moonshot S2 Top Down Summary.txt\", \"r\", encoding=\"utf-8\", errors=\"ignore\") as f:\n",
    "    moonshot_summary = f.read()\n",
    "\n",
    "\n",
    "# Defining a function for fluency metrics\n",
    "\n",
    "def fluency_metrics(text, label=\"Transcript\"):\n",
    "    print(f\"\\n=== {label} Fluency Metrics ===\")\n",
    "    # Calculating the Reading Ease with Flesch Reading Ease Score    \n",
    "    print(\"Flesch Reading Ease:\", textstat.flesch_reading_ease(text))\n",
    "    # Calculating the Flesh-Kincaid Grade Level for the Grade level required to understand the text    \n",
    "    print(\"Flesch-Kincaid Grade Level:\", textstat.flesch_kincaid_grade(text))\n",
    "    # Calculating the Dale-Chall Readability Score for Text Difficulty based on familiar word lists    \n",
    "    print(\"Dale-Chall Readability Score:\", textstat.dale_chall_readability_score(text))\n",
    "    # Another readability score using characters per word and words per sentence    \n",
    "    print(\"Automated Readability Index:\", textstat.automated_readability_index(text))\n",
    "    # Measures average number of words per sentence    \n",
    "    print(\"Avg Sentence Length:\", textstat.avg_sentence_length(text))\n",
    "    # Total number of unique words in the transcript to avoid overuse of same terms\n",
    "    print(\"Lexicon Count (words):\", textstat.lexicon_count(text, removepunct=True))\n",
    "    # Total number of sentences in the transcript    \n",
    "    print(\"Sentence Count:\", textstat.sentence_count(text))\n",
    "\n",
    "\n",
    "# Running the function on all summaries\n",
    "\n",
    "fluency_metrics(chatgpt_summary, \"ChatGPT Summary\")\n",
    "fluency_metrics(deepseek_summary, \"DeepSeek Summary\")\n",
    "fluency_metrics(meta_summary, \"Meta Summary\")\n",
    "fluency_metrics(moonshot_summary, \"Moonshot Summary\")\n"
   ]
  },
  {
   "cell_type": "code",
   "execution_count": null,
   "id": "88ce588f-253c-487c-ac33-4549283db3be",
   "metadata": {},
   "outputs": [],
   "source": []
  }
 ],
 "metadata": {
  "kernelspec": {
   "display_name": "Python 3 (ipykernel)",
   "language": "python",
   "name": "python3"
  },
  "language_info": {
   "codemirror_mode": {
    "name": "ipython",
    "version": 3
   },
   "file_extension": ".py",
   "mimetype": "text/x-python",
   "name": "python",
   "nbconvert_exporter": "python",
   "pygments_lexer": "ipython3",
   "version": "3.12.7"
  }
 },
 "nbformat": 4,
 "nbformat_minor": 5
}
