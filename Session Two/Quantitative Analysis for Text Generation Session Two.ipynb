{
 "cells": [
  {
   "cell_type": "code",
   "execution_count": 1,
   "id": "bd1be4a8-50de-4739-8df3-d463a87aa706",
   "metadata": {},
   "outputs": [
    {
     "name": "stdout",
     "output_type": "stream",
     "text": [
      "\n",
      "=== Golden Transcript Fluency Metrics ===\n",
      "Flesch Reading Ease: 79.88643104332226\n",
      "Flesch-Kincaid Grade Level: 5.845835683158164\n",
      "Dale-Chall Readability Score: 7.8411750727566085\n",
      "Automated Readability Index: 6.2188074881587845\n",
      "Avg Sentence Length: 15.01063829787234\n",
      "Lexicon Count (words): 7055\n",
      "Sentence Count: 470\n",
      "\n",
      "=== Generated Transcript Fluency Metrics ===\n",
      "Flesch Reading Ease: 77.32815368840409\n",
      "Flesch-Kincaid Grade Level: 5.79614418643899\n",
      "Dale-Chall Readability Score: 8.104100734382232\n",
      "Automated Readability Index: 6.280169045993496\n",
      "Avg Sentence Length: 13.374269005847953\n",
      "Lexicon Count (words): 2287\n",
      "Sentence Count: 171\n"
     ]
    },
    {
     "name": "stderr",
     "output_type": "stream",
     "text": [
      "C:\\Users\\Gautham Rajesh\\AppData\\Local\\Temp\\ipykernel_13288\\1216151968.py:21: DeprecationWarning: The 'avg_sentence_length' method has been deprecated due to being the same as 'words_per_sentence'. This method will be removed in thefuture.\n",
      "  print(\"Avg Sentence Length:\", textstat.avg_sentence_length(text))\n"
     ]
    }
   ],
   "source": [
    "#Importing the texstat library\n",
    "import textstat\n",
    "# Loading the golden transcript\n",
    "with open(\"Session Two.txt\", \"r\", encoding=\"utf-8\") as f:\n",
    "    golden = f.read()\n",
    "#Loading the generated transcript from Meta\n",
    "with open(\"Chat Gpt S2.txt\", \"r\", encoding=\"utf-8\", errors=\"ignore\") as f:\n",
    "    generated = f.read()\n",
    "#Defining a function called fluency metrices\n",
    "def fluency_metrics(text, label=\"Transcript\"):\n",
    "    print(f\"\\n=== {label} Fluency Metrics ===\")\n",
    "#Calculating the Reading Ease with Flesch Reading Ease Score    \n",
    "    print(\"Flesch Reading Ease:\", textstat.flesch_reading_ease(text))\n",
    "#Calculating the Flesh-Kincaid Grade Level for the Grade level required to understand the text    \n",
    "    print(\"Flesch-Kincaid Grade Level:\", textstat.flesch_kincaid_grade(text))\n",
    "#Calculating the Dale-Chall Readability Score for Text Difficulty based on familiar word lists    \n",
    "    print(\"Dale-Chall Readability Score:\", textstat.dale_chall_readability_score(text))\n",
    "#Another readability score using characters per word and words per sentence    \n",
    "    print(\"Automated Readability Index:\", textstat.automated_readability_index(text))\n",
    "#Measures average number of words per sentence    \n",
    "    print(\"Avg Sentence Length:\", textstat.avg_sentence_length(text))\n",
    "#Total number of unique words in the transcript to avoid overuse of same terms\n",
    "    print(\"Lexicon Count (words):\", textstat.lexicon_count(text, removepunct=True))\n",
    "#Total number of sentences in the transcript    \n",
    "    print(\"Sentence Count:\", textstat.sentence_count(text))\n",
    "\n",
    "# Running the functino on both Transcripts\n",
    "fluency_metrics(golden, \"Golden Transcript\")\n",
    "fluency_metrics(generated, \"Generated Transcript\")\n",
    "\n"
   ]
  },
  {
   "cell_type": "code",
   "execution_count": 3,
   "id": "4fa23b82-6179-4413-b041-d5f4dc63c7d7",
   "metadata": {},
   "outputs": [
    {
     "name": "stdout",
     "output_type": "stream",
     "text": [
      "\n",
      "=== Golden Transcript Fluency Metrics ===\n",
      "Flesch Reading Ease: 79.88643104332226\n",
      "Flesch-Kincaid Grade Level: 5.845835683158164\n",
      "Dale-Chall Readability Score: 7.8411750727566085\n",
      "Automated Readability Index: 6.2188074881587845\n",
      "Avg Sentence Length: 15.01063829787234\n",
      "Lexicon Count (words): 7055\n",
      "Sentence Count: 470\n",
      "\n",
      "=== Generated Transcript Fluency Metrics ===\n",
      "Flesch Reading Ease: 66.20759701389846\n",
      "Flesch-Kincaid Grade Level: 6.465645383239302\n",
      "Dale-Chall Readability Score: 10.178239369753681\n",
      "Automated Readability Index: 7.715080417300591\n",
      "Avg Sentence Length: 9.825581395348838\n",
      "Lexicon Count (words): 845\n",
      "Sentence Count: 86\n"
     ]
    },
    {
     "name": "stderr",
     "output_type": "stream",
     "text": [
      "C:\\Users\\Gautham Rajesh\\AppData\\Local\\Temp\\ipykernel_13288\\1729224285.py:21: DeprecationWarning: The 'avg_sentence_length' method has been deprecated due to being the same as 'words_per_sentence'. This method will be removed in thefuture.\n",
      "  print(\"Avg Sentence Length:\", textstat.avg_sentence_length(text))\n"
     ]
    }
   ],
   "source": [
    "#Importing the texstat library\n",
    "import textstat\n",
    "# Loading the golden transcript\n",
    "with open(\"Session Two.txt\", \"r\", encoding=\"utf-8\") as f:\n",
    "    golden = f.read()\n",
    "#Loading the generated transcript from Meta\n",
    "with open(\"Deepseek S2.txt\", \"r\", encoding=\"utf-8\", errors=\"ignore\") as f:\n",
    "    generated = f.read()\n",
    "#Defining a function called fluency metrices\n",
    "def fluency_metrics(text, label=\"Transcript\"):\n",
    "    print(f\"\\n=== {label} Fluency Metrics ===\")\n",
    "#Calculating the Reading Ease with Flesch Reading Ease Score    \n",
    "    print(\"Flesch Reading Ease:\", textstat.flesch_reading_ease(text))\n",
    "#Calculating the Flesh-Kincaid Grade Level for the Grade level required to understand the text    \n",
    "    print(\"Flesch-Kincaid Grade Level:\", textstat.flesch_kincaid_grade(text))\n",
    "#Calculating the Dale-Chall Readability Score for Text Difficulty based on familiar word lists    \n",
    "    print(\"Dale-Chall Readability Score:\", textstat.dale_chall_readability_score(text))\n",
    "#Another readability score using characters per word and words per sentence    \n",
    "    print(\"Automated Readability Index:\", textstat.automated_readability_index(text))\n",
    "#Measures average number of words per sentence    \n",
    "    print(\"Avg Sentence Length:\", textstat.avg_sentence_length(text))\n",
    "#Total number of unique words in the transcript to avoid overuse of same terms\n",
    "    print(\"Lexicon Count (words):\", textstat.lexicon_count(text, removepunct=True))\n",
    "#Total number of sentences in the transcript    \n",
    "    print(\"Sentence Count:\", textstat.sentence_count(text))\n",
    "\n",
    "# Running the functino on both Transcripts\n",
    "fluency_metrics(golden, \"Golden Transcript\")\n",
    "fluency_metrics(generated, \"Generated Transcript\")\n",
    "\n"
   ]
  },
  {
   "cell_type": "code",
   "execution_count": 5,
   "id": "97054e97-a756-4b78-a7c1-ec24da435366",
   "metadata": {},
   "outputs": [
    {
     "name": "stdout",
     "output_type": "stream",
     "text": [
      "\n",
      "=== Golden Transcript Fluency Metrics ===\n",
      "Flesch Reading Ease: 79.88643104332226\n",
      "Flesch-Kincaid Grade Level: 5.845835683158164\n",
      "Dale-Chall Readability Score: 7.8411750727566085\n",
      "Automated Readability Index: 6.2188074881587845\n",
      "Avg Sentence Length: 15.01063829787234\n",
      "Lexicon Count (words): 7055\n",
      "Sentence Count: 470\n",
      "\n",
      "=== Generated Transcript Fluency Metrics ===\n",
      "Flesch Reading Ease: 75.45676877470356\n",
      "Flesch-Kincaid Grade Level: 6.536650197628461\n",
      "Dale-Chall Readability Score: 7.61639678853755\n",
      "Automated Readability Index: 6.804338685770752\n",
      "Avg Sentence Length: 15.304347826086957\n",
      "Lexicon Count (words): 1760\n",
      "Sentence Count: 115\n"
     ]
    },
    {
     "name": "stderr",
     "output_type": "stream",
     "text": [
      "C:\\Users\\Gautham Rajesh\\AppData\\Local\\Temp\\ipykernel_13288\\3449427885.py:21: DeprecationWarning: The 'avg_sentence_length' method has been deprecated due to being the same as 'words_per_sentence'. This method will be removed in thefuture.\n",
      "  print(\"Avg Sentence Length:\", textstat.avg_sentence_length(text))\n"
     ]
    }
   ],
   "source": [
    "#Importing the texstat library\n",
    "import textstat\n",
    "# Loading the golden transcript\n",
    "with open(\"Session Two.txt\", \"r\", encoding=\"utf-8\") as f:\n",
    "    golden = f.read()\n",
    "#Loading the generated transcript from Meta\n",
    "with open(\"Meta S2.txt\", \"r\", encoding=\"utf-8\", errors=\"ignore\") as f:\n",
    "    generated = f.read()\n",
    "#Defining a function called fluency metrices\n",
    "def fluency_metrics(text, label=\"Transcript\"):\n",
    "    print(f\"\\n=== {label} Fluency Metrics ===\")\n",
    "#Calculating the Reading Ease with Flesch Reading Ease Score    \n",
    "    print(\"Flesch Reading Ease:\", textstat.flesch_reading_ease(text))\n",
    "#Calculating the Flesh-Kincaid Grade Level for the Grade level required to understand the text    \n",
    "    print(\"Flesch-Kincaid Grade Level:\", textstat.flesch_kincaid_grade(text))\n",
    "#Calculating the Dale-Chall Readability Score for Text Difficulty based on familiar word lists    \n",
    "    print(\"Dale-Chall Readability Score:\", textstat.dale_chall_readability_score(text))\n",
    "#Another readability score using characters per word and words per sentence    \n",
    "    print(\"Automated Readability Index:\", textstat.automated_readability_index(text))\n",
    "#Measures average number of words per sentence    \n",
    "    print(\"Avg Sentence Length:\", textstat.avg_sentence_length(text))\n",
    "#Total number of unique words in the transcript to avoid overuse of same terms\n",
    "    print(\"Lexicon Count (words):\", textstat.lexicon_count(text, removepunct=True))\n",
    "#Total number of sentences in the transcript    \n",
    "    print(\"Sentence Count:\", textstat.sentence_count(text))\n",
    "\n",
    "# Running the functino on both Transcripts\n",
    "fluency_metrics(golden, \"Golden Transcript\")\n",
    "fluency_metrics(generated, \"Generated Transcript\")\n",
    "\n"
   ]
  },
  {
   "cell_type": "code",
   "execution_count": 7,
   "id": "c68a000f-1478-42a8-9dcf-4ef07bd05a3d",
   "metadata": {},
   "outputs": [
    {
     "name": "stdout",
     "output_type": "stream",
     "text": [
      "\n",
      "=== Golden Transcript Fluency Metrics ===\n",
      "Flesch Reading Ease: 79.88643104332226\n",
      "Flesch-Kincaid Grade Level: 5.845835683158164\n",
      "Dale-Chall Readability Score: 7.8411750727566085\n",
      "Automated Readability Index: 6.2188074881587845\n",
      "Avg Sentence Length: 15.01063829787234\n",
      "Lexicon Count (words): 7055\n",
      "Sentence Count: 470\n",
      "\n",
      "=== Generated Transcript Fluency Metrics ===\n",
      "Flesch Reading Ease: 75.58004416130177\n",
      "Flesch-Kincaid Grade Level: 6.140719652084687\n",
      "Dale-Chall Readability Score: 8.735291815194419\n",
      "Automated Readability Index: 6.981033423325474\n",
      "Avg Sentence Length: 13.779816513761467\n",
      "Lexicon Count (words): 1502\n",
      "Sentence Count: 109\n"
     ]
    },
    {
     "name": "stderr",
     "output_type": "stream",
     "text": [
      "C:\\Users\\Gautham Rajesh\\AppData\\Local\\Temp\\ipykernel_13288\\24813577.py:21: DeprecationWarning: The 'avg_sentence_length' method has been deprecated due to being the same as 'words_per_sentence'. This method will be removed in thefuture.\n",
      "  print(\"Avg Sentence Length:\", textstat.avg_sentence_length(text))\n"
     ]
    }
   ],
   "source": [
    "#Importing the texstat library\n",
    "import textstat\n",
    "# Loading the golden transcript\n",
    "with open(\"Session Two.txt\", \"r\", encoding=\"utf-8\") as f:\n",
    "    golden = f.read()\n",
    "#Loading the generated transcript from Meta\n",
    "with open(\"Moonshot S2.txt\", \"r\", encoding=\"utf-8\", errors=\"ignore\") as f:\n",
    "    generated = f.read()\n",
    "#Defining a function called fluency metrices\n",
    "def fluency_metrics(text, label=\"Transcript\"):\n",
    "    print(f\"\\n=== {label} Fluency Metrics ===\")\n",
    "#Calculating the Reading Ease with Flesch Reading Ease Score    \n",
    "    print(\"Flesch Reading Ease:\", textstat.flesch_reading_ease(text))\n",
    "#Calculating the Flesh-Kincaid Grade Level for the Grade level required to understand the text    \n",
    "    print(\"Flesch-Kincaid Grade Level:\", textstat.flesch_kincaid_grade(text))\n",
    "#Calculating the Dale-Chall Readability Score for Text Difficulty based on familiar word lists    \n",
    "    print(\"Dale-Chall Readability Score:\", textstat.dale_chall_readability_score(text))\n",
    "#Another readability score using characters per word and words per sentence    \n",
    "    print(\"Automated Readability Index:\", textstat.automated_readability_index(text))\n",
    "#Measures average number of words per sentence    \n",
    "    print(\"Avg Sentence Length:\", textstat.avg_sentence_length(text))\n",
    "#Total number of unique words in the transcript to avoid overuse of same terms\n",
    "    print(\"Lexicon Count (words):\", textstat.lexicon_count(text, removepunct=True))\n",
    "#Total number of sentences in the transcript    \n",
    "    print(\"Sentence Count:\", textstat.sentence_count(text))\n",
    "\n",
    "# Running the functino on both Transcripts\n",
    "fluency_metrics(golden, \"Golden Transcript\")\n",
    "fluency_metrics(generated, \"Generated Transcript\")\n",
    "\n"
   ]
  },
  {
   "cell_type": "code",
   "execution_count": null,
   "id": "51456b1f-6fbf-44a0-8c5a-aab6b8785898",
   "metadata": {},
   "outputs": [],
   "source": []
  }
 ],
 "metadata": {
  "kernelspec": {
   "display_name": "Python 3 (ipykernel)",
   "language": "python",
   "name": "python3"
  },
  "language_info": {
   "codemirror_mode": {
    "name": "ipython",
    "version": 3
   },
   "file_extension": ".py",
   "mimetype": "text/x-python",
   "name": "python",
   "nbconvert_exporter": "python",
   "pygments_lexer": "ipython3",
   "version": "3.12.7"
  }
 },
 "nbformat": 4,
 "nbformat_minor": 5
}
