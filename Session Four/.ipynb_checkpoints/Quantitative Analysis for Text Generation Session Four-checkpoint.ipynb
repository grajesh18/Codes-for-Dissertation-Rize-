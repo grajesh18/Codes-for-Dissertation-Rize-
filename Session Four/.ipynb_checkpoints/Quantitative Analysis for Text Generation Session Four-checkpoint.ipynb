{
 "cells": [
  {
   "cell_type": "code",
   "execution_count": 1,
   "id": "bd1be4a8-50de-4739-8df3-d463a87aa706",
   "metadata": {},
   "outputs": [
    {
     "name": "stdout",
     "output_type": "stream",
     "text": [
      "\n",
      "=== Golden Transcript Fluency Metrics ===\n",
      "Flesch Reading Ease: 84.15396907349898\n",
      "Flesch-Kincaid Grade Level: 4.711271767885901\n",
      "Dale-Chall Readability Score: 7.518234598573729\n",
      "Automated Readability Index: 5.027715808357957\n",
      "Avg Sentence Length: 12.839673913043478\n",
      "Lexicon Count (words): 4725\n",
      "Sentence Count: 368\n",
      "\n",
      "=== Generated Transcript Fluency Metrics ===\n",
      "Flesch Reading Ease: 73.80609844406446\n",
      "Flesch-Kincaid Grade Level: 6.184251694217494\n",
      "Dale-Chall Readability Score: 8.469034933603563\n",
      "Automated Readability Index: 6.75251501572825\n",
      "Avg Sentence Length: 12.95906432748538\n",
      "Lexicon Count (words): 2216\n",
      "Sentence Count: 171\n"
     ]
    },
    {
     "name": "stderr",
     "output_type": "stream",
     "text": [
      "C:\\Users\\Gautham Rajesh\\AppData\\Local\\Temp\\ipykernel_17696\\3514499161.py:21: DeprecationWarning: The 'avg_sentence_length' method has been deprecated due to being the same as 'words_per_sentence'. This method will be removed in thefuture.\n",
      "  print(\"Avg Sentence Length:\", textstat.avg_sentence_length(text))\n"
     ]
    }
   ],
   "source": [
    "#Importing the texstat library\n",
    "import textstat\n",
    "# Loading the golden transcript\n",
    "with open(\"Session Four.txt\", \"r\", encoding=\"utf-8\") as f:\n",
    "    golden = f.read()\n",
    "#Loading the generated transcript from Meta\n",
    "with open(\"Chat Gpt S4.txt\", \"r\", encoding=\"utf-8\", errors=\"ignore\") as f:\n",
    "    generated = f.read()\n",
    "#Defining a function called fluency metrices\n",
    "def fluency_metrics(text, label=\"Transcript\"):\n",
    "    print(f\"\\n=== {label} Fluency Metrics ===\")\n",
    "#Calculating the Reading Ease with Flesch Reading Ease Score    \n",
    "    print(\"Flesch Reading Ease:\", textstat.flesch_reading_ease(text))\n",
    "#Calculating the Flesh-Kincaid Grade Level for the Grade level required to understand the text    \n",
    "    print(\"Flesch-Kincaid Grade Level:\", textstat.flesch_kincaid_grade(text))\n",
    "#Calculating the Dale-Chall Readability Score for Text Difficulty based on familiar word lists    \n",
    "    print(\"Dale-Chall Readability Score:\", textstat.dale_chall_readability_score(text))\n",
    "#Another readability score using characters per word and words per sentence    \n",
    "    print(\"Automated Readability Index:\", textstat.automated_readability_index(text))\n",
    "#Measures average number of words per sentence    \n",
    "    print(\"Avg Sentence Length:\", textstat.avg_sentence_length(text))\n",
    "#Total number of unique words in the transcript to avoid overuse of same terms\n",
    "    print(\"Lexicon Count (words):\", textstat.lexicon_count(text, removepunct=True))\n",
    "#Total number of sentences in the transcript    \n",
    "    print(\"Sentence Count:\", textstat.sentence_count(text))\n",
    "\n",
    "# Running the functino on both Transcripts\n",
    "fluency_metrics(golden, \"Golden Transcript\")\n",
    "fluency_metrics(generated, \"Generated Transcript\")\n",
    "\n"
   ]
  },
  {
   "cell_type": "code",
   "execution_count": 3,
   "id": "4fa23b82-6179-4413-b041-d5f4dc63c7d7",
   "metadata": {},
   "outputs": [
    {
     "name": "stdout",
     "output_type": "stream",
     "text": [
      "\n",
      "=== Golden Transcript Fluency Metrics ===\n",
      "Flesch Reading Ease: 84.15396907349898\n",
      "Flesch-Kincaid Grade Level: 4.711271767885901\n",
      "Dale-Chall Readability Score: 7.518234598573729\n",
      "Automated Readability Index: 5.027715808357957\n",
      "Avg Sentence Length: 12.839673913043478\n",
      "Lexicon Count (words): 4725\n",
      "Sentence Count: 368\n",
      "\n",
      "=== Generated Transcript Fluency Metrics ===\n",
      "Flesch Reading Ease: 64.38975588025662\n",
      "Flesch-Kincaid Grade Level: 6.526318009028277\n",
      "Dale-Chall Readability Score: 10.421362894986933\n",
      "Automated Readability Index: 8.432018221488384\n",
      "Avg Sentence Length: 9.049180327868852\n",
      "Lexicon Count (words): 1104\n",
      "Sentence Count: 122\n"
     ]
    },
    {
     "name": "stderr",
     "output_type": "stream",
     "text": [
      "C:\\Users\\Gautham Rajesh\\AppData\\Local\\Temp\\ipykernel_17696\\3152685485.py:21: DeprecationWarning: The 'avg_sentence_length' method has been deprecated due to being the same as 'words_per_sentence'. This method will be removed in thefuture.\n",
      "  print(\"Avg Sentence Length:\", textstat.avg_sentence_length(text))\n"
     ]
    }
   ],
   "source": [
    "#Importing the texstat library\n",
    "import textstat\n",
    "# Loading the golden transcript\n",
    "with open(\"Session Four.txt\", \"r\", encoding=\"utf-8\") as f:\n",
    "    golden = f.read()\n",
    "#Loading the generated transcript from Meta\n",
    "with open(\"Deepseek S4.txt\", \"r\", encoding=\"utf-8\", errors=\"ignore\") as f:\n",
    "    generated = f.read()\n",
    "#Defining a function called fluency metrices\n",
    "def fluency_metrics(text, label=\"Transcript\"):\n",
    "    print(f\"\\n=== {label} Fluency Metrics ===\")\n",
    "#Calculating the Reading Ease with Flesch Reading Ease Score    \n",
    "    print(\"Flesch Reading Ease:\", textstat.flesch_reading_ease(text))\n",
    "#Calculating the Flesh-Kincaid Grade Level for the Grade level required to understand the text    \n",
    "    print(\"Flesch-Kincaid Grade Level:\", textstat.flesch_kincaid_grade(text))\n",
    "#Calculating the Dale-Chall Readability Score for Text Difficulty based on familiar word lists    \n",
    "    print(\"Dale-Chall Readability Score:\", textstat.dale_chall_readability_score(text))\n",
    "#Another readability score using characters per word and words per sentence    \n",
    "    print(\"Automated Readability Index:\", textstat.automated_readability_index(text))\n",
    "#Measures average number of words per sentence    \n",
    "    print(\"Avg Sentence Length:\", textstat.avg_sentence_length(text))\n",
    "#Total number of unique words in the transcript to avoid overuse of same terms\n",
    "    print(\"Lexicon Count (words):\", textstat.lexicon_count(text, removepunct=True))\n",
    "#Total number of sentences in the transcript    \n",
    "    print(\"Sentence Count:\", textstat.sentence_count(text))\n",
    "\n",
    "# Running the functino on both Transcripts\n",
    "fluency_metrics(golden, \"Golden Transcript\")\n",
    "fluency_metrics(generated, \"Generated Transcript\")\n",
    "\n"
   ]
  },
  {
   "cell_type": "code",
   "execution_count": 5,
   "id": "97054e97-a756-4b78-a7c1-ec24da435366",
   "metadata": {},
   "outputs": [
    {
     "name": "stdout",
     "output_type": "stream",
     "text": [
      "\n",
      "=== Golden Transcript Fluency Metrics ===\n",
      "Flesch Reading Ease: 84.15396907349898\n",
      "Flesch-Kincaid Grade Level: 4.711271767885901\n",
      "Dale-Chall Readability Score: 7.518234598573729\n",
      "Automated Readability Index: 5.027715808357957\n",
      "Avg Sentence Length: 12.839673913043478\n",
      "Lexicon Count (words): 4725\n",
      "Sentence Count: 368\n",
      "\n",
      "=== Generated Transcript Fluency Metrics ===\n",
      "Flesch Reading Ease: 79.07010201720621\n",
      "Flesch-Kincaid Grade Level: 4.711314444374331\n",
      "Dale-Chall Readability Score: 8.371476369870217\n",
      "Automated Readability Index: 5.396919080372733\n",
      "Avg Sentence Length: 9.985507246376812\n",
      "Lexicon Count (words): 689\n",
      "Sentence Count: 69\n"
     ]
    },
    {
     "name": "stderr",
     "output_type": "stream",
     "text": [
      "C:\\Users\\Gautham Rajesh\\AppData\\Local\\Temp\\ipykernel_17696\\2112091747.py:21: DeprecationWarning: The 'avg_sentence_length' method has been deprecated due to being the same as 'words_per_sentence'. This method will be removed in thefuture.\n",
      "  print(\"Avg Sentence Length:\", textstat.avg_sentence_length(text))\n"
     ]
    }
   ],
   "source": [
    "#Importing the texstat library\n",
    "import textstat\n",
    "# Loading the golden transcript\n",
    "with open(\"Session Four.txt\", \"r\", encoding=\"utf-8\") as f:\n",
    "    golden = f.read()\n",
    "#Loading the generated transcript from Meta\n",
    "with open(\"Meta S4.txt\", \"r\", encoding=\"utf-8\", errors=\"ignore\") as f:\n",
    "    generated = f.read()\n",
    "#Defining a function called fluency metrices\n",
    "def fluency_metrics(text, label=\"Transcript\"):\n",
    "    print(f\"\\n=== {label} Fluency Metrics ===\")\n",
    "#Calculating the Reading Ease with Flesch Reading Ease Score    \n",
    "    print(\"Flesch Reading Ease:\", textstat.flesch_reading_ease(text))\n",
    "#Calculating the Flesh-Kincaid Grade Level for the Grade level required to understand the text    \n",
    "    print(\"Flesch-Kincaid Grade Level:\", textstat.flesch_kincaid_grade(text))\n",
    "#Calculating the Dale-Chall Readability Score for Text Difficulty based on familiar word lists    \n",
    "    print(\"Dale-Chall Readability Score:\", textstat.dale_chall_readability_score(text))\n",
    "#Another readability score using characters per word and words per sentence    \n",
    "    print(\"Automated Readability Index:\", textstat.automated_readability_index(text))\n",
    "#Measures average number of words per sentence    \n",
    "    print(\"Avg Sentence Length:\", textstat.avg_sentence_length(text))\n",
    "#Total number of unique words in the transcript to avoid overuse of same terms\n",
    "    print(\"Lexicon Count (words):\", textstat.lexicon_count(text, removepunct=True))\n",
    "#Total number of sentences in the transcript    \n",
    "    print(\"Sentence Count:\", textstat.sentence_count(text))\n",
    "\n",
    "# Running the functino on both Transcripts\n",
    "fluency_metrics(golden, \"Golden Transcript\")\n",
    "fluency_metrics(generated, \"Generated Transcript\")\n",
    "\n"
   ]
  },
  {
   "cell_type": "code",
   "execution_count": 7,
   "id": "c68a000f-1478-42a8-9dcf-4ef07bd05a3d",
   "metadata": {},
   "outputs": [
    {
     "name": "stdout",
     "output_type": "stream",
     "text": [
      "\n",
      "=== Golden Transcript Fluency Metrics ===\n",
      "Flesch Reading Ease: 84.15396907349898\n",
      "Flesch-Kincaid Grade Level: 4.711271767885901\n",
      "Dale-Chall Readability Score: 7.518234598573729\n",
      "Automated Readability Index: 5.027715808357957\n",
      "Avg Sentence Length: 12.839673913043478\n",
      "Lexicon Count (words): 4725\n",
      "Sentence Count: 368\n",
      "\n",
      "=== Generated Transcript Fluency Metrics ===\n",
      "Flesch Reading Ease: 76.31344996995603\n",
      "Flesch-Kincaid Grade Level: 5.703303630768673\n",
      "Dale-Chall Readability Score: 8.948855407460009\n",
      "Automated Readability Index: 6.835964684674842\n",
      "Avg Sentence Length: 12.430851063829786\n",
      "Lexicon Count (words): 2337\n",
      "Sentence Count: 188\n"
     ]
    },
    {
     "name": "stderr",
     "output_type": "stream",
     "text": [
      "C:\\Users\\Gautham Rajesh\\AppData\\Local\\Temp\\ipykernel_17696\\3998721110.py:21: DeprecationWarning: The 'avg_sentence_length' method has been deprecated due to being the same as 'words_per_sentence'. This method will be removed in thefuture.\n",
      "  print(\"Avg Sentence Length:\", textstat.avg_sentence_length(text))\n"
     ]
    }
   ],
   "source": [
    "#Importing the texstat library\n",
    "import textstat\n",
    "# Loading the golden transcript\n",
    "with open(\"Session Four.txt\", \"r\", encoding=\"utf-8\") as f:\n",
    "    golden = f.read()\n",
    "#Loading the generated transcript from Meta\n",
    "with open(\"Moonshot S4.txt\", \"r\", encoding=\"utf-8\", errors=\"ignore\") as f:\n",
    "    generated = f.read()\n",
    "#Defining a function called fluency metrices\n",
    "def fluency_metrics(text, label=\"Transcript\"):\n",
    "    print(f\"\\n=== {label} Fluency Metrics ===\")\n",
    "#Calculating the Reading Ease with Flesch Reading Ease Score    \n",
    "    print(\"Flesch Reading Ease:\", textstat.flesch_reading_ease(text))\n",
    "#Calculating the Flesh-Kincaid Grade Level for the Grade level required to understand the text    \n",
    "    print(\"Flesch-Kincaid Grade Level:\", textstat.flesch_kincaid_grade(text))\n",
    "#Calculating the Dale-Chall Readability Score for Text Difficulty based on familiar word lists    \n",
    "    print(\"Dale-Chall Readability Score:\", textstat.dale_chall_readability_score(text))\n",
    "#Another readability score using characters per word and words per sentence    \n",
    "    print(\"Automated Readability Index:\", textstat.automated_readability_index(text))\n",
    "#Measures average number of words per sentence    \n",
    "    print(\"Avg Sentence Length:\", textstat.avg_sentence_length(text))\n",
    "#Total number of unique words in the transcript to avoid overuse of same terms\n",
    "    print(\"Lexicon Count (words):\", textstat.lexicon_count(text, removepunct=True))\n",
    "#Total number of sentences in the transcript    \n",
    "    print(\"Sentence Count:\", textstat.sentence_count(text))\n",
    "\n",
    "# Running the functino on both Transcripts\n",
    "fluency_metrics(golden, \"Golden Transcript\")\n",
    "fluency_metrics(generated, \"Generated Transcript\")\n",
    "\n"
   ]
  },
  {
   "cell_type": "code",
   "execution_count": null,
   "id": "51456b1f-6fbf-44a0-8c5a-aab6b8785898",
   "metadata": {},
   "outputs": [],
   "source": []
  }
 ],
 "metadata": {
  "kernelspec": {
   "display_name": "Python 3 (ipykernel)",
   "language": "python",
   "name": "python3"
  },
  "language_info": {
   "codemirror_mode": {
    "name": "ipython",
    "version": 3
   },
   "file_extension": ".py",
   "mimetype": "text/x-python",
   "name": "python",
   "nbconvert_exporter": "python",
   "pygments_lexer": "ipython3",
   "version": "3.12.7"
  }
 },
 "nbformat": 4,
 "nbformat_minor": 5
}
