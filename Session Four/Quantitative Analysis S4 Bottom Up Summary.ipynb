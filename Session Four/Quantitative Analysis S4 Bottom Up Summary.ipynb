{
 "cells": [
  {
   "cell_type": "code",
   "execution_count": 1,
   "id": "5d1f5a95-dad0-4ed9-a245-d5b5569d950d",
   "metadata": {},
   "outputs": [
    {
     "name": "stdout",
     "output_type": "stream",
     "text": [
      "\n",
      "=== ChatGPT Summary Fluency Metrics ===\n",
      "Flesch Reading Ease: 34.461627962085316\n",
      "Flesch-Kincaid Grade Level: 13.694450236966826\n",
      "Dale-Chall Readability Score: 12.31614056872038\n",
      "Automated Readability Index: 16.90569086651054\n",
      "Avg Sentence Length: 21.1\n",
      "Lexicon Count (words): 422\n",
      "Sentence Count: 20\n",
      "\n",
      "=== DeepSeek Summary Fluency Metrics ===\n",
      "Flesch Reading Ease: 32.0042051311751\n",
      "Flesch-Kincaid Grade Level: 13.259071060404242\n",
      "Dale-Chall Readability Score: 12.550267324955117\n",
      "Automated Readability Index: 16.334449915110362\n",
      "Avg Sentence Length: 17.967741935483872\n",
      "Lexicon Count (words): 557\n",
      "Sentence Count: 31\n",
      "\n",
      "=== Meta Summary Fluency Metrics ===\n",
      "Flesch Reading Ease: 44.89527693857002\n",
      "Flesch-Kincaid Grade Level: 10.913034095813554\n",
      "Dale-Chall Readability Score: 11.764695310027335\n",
      "Automated Readability Index: 13.145695583369303\n",
      "Avg Sentence Length: 15.761904761904763\n",
      "Lexicon Count (words): 331\n",
      "Sentence Count: 21\n",
      "\n",
      "=== Moonshot Summary Fluency Metrics ===\n",
      "Flesch Reading Ease: 22.986798756798777\n",
      "Flesch-Kincaid Grade Level: 14.00037296037296\n",
      "Dale-Chall Readability Score: 12.650847630147632\n",
      "Automated Readability Index: 15.939636082075104\n",
      "Avg Sentence Length: 15.88888888888889\n",
      "Lexicon Count (words): 286\n",
      "Sentence Count: 18\n"
     ]
    },
    {
     "name": "stderr",
     "output_type": "stream",
     "text": [
      "C:\\Users\\Gautham Rajesh\\AppData\\Local\\Temp\\ipykernel_5128\\2598176956.py:33: DeprecationWarning: The 'avg_sentence_length' method has been deprecated due to being the same as 'words_per_sentence'. This method will be removed in thefuture.\n",
      "  print(\"Avg Sentence Length:\", textstat.avg_sentence_length(text))\n"
     ]
    }
   ],
   "source": [
    "# Importing the textstat library\n",
    "import textstat\n",
    "\n",
    "\n",
    "# Loading the generated summaries\n",
    "\n",
    "with open(\"Chat Gpt S4 Bottom Up Summary.txt\", \"r\", encoding=\"utf-8\", errors=\"ignore\") as f:\n",
    "    chatgpt_summary = f.read()\n",
    "\n",
    "with open(\"DeepSeek S4 Bottom Up Summary.txt\", \"r\", encoding=\"utf-8\", errors=\"ignore\") as f:\n",
    "    deepseek_summary = f.read()\n",
    "\n",
    "with open(\"Meta S4 Bottom Up Summary.txt\", \"r\", encoding=\"utf-8\", errors=\"ignore\") as f:\n",
    "    meta_summary = f.read()\n",
    "\n",
    "with open(\"Moonshot S4 Bottom Up Summary.txt\", \"r\", encoding=\"utf-8\", errors=\"ignore\") as f:\n",
    "    moonshot_summary = f.read()\n",
    "\n",
    "\n",
    "# Defining a function for fluency metrics\n",
    "\n",
    "def fluency_metrics(text, label=\"Transcript\"):\n",
    "    print(f\"\\n=== {label} Fluency Metrics ===\")\n",
    "    # Calculating the Reading Ease with Flesch Reading Ease Score    \n",
    "    print(\"Flesch Reading Ease:\", textstat.flesch_reading_ease(text))\n",
    "    # Calculating the Flesh-Kincaid Grade Level for the Grade level required to understand the text    \n",
    "    print(\"Flesch-Kincaid Grade Level:\", textstat.flesch_kincaid_grade(text))\n",
    "    # Calculating the Dale-Chall Readability Score for Text Difficulty based on familiar word lists    \n",
    "    print(\"Dale-Chall Readability Score:\", textstat.dale_chall_readability_score(text))\n",
    "    # Another readability score using characters per word and words per sentence    \n",
    "    print(\"Automated Readability Index:\", textstat.automated_readability_index(text))\n",
    "    # Measures average number of words per sentence    \n",
    "    print(\"Avg Sentence Length:\", textstat.avg_sentence_length(text))\n",
    "    # Total number of unique words in the transcript to avoid overuse of same terms\n",
    "    print(\"Lexicon Count (words):\", textstat.lexicon_count(text, removepunct=True))\n",
    "    # Total number of sentences in the transcript    \n",
    "    print(\"Sentence Count:\", textstat.sentence_count(text))\n",
    "\n",
    "\n",
    "# Running the function on all summaries\n",
    "\n",
    "fluency_metrics(chatgpt_summary, \"ChatGPT Summary\")\n",
    "fluency_metrics(deepseek_summary, \"DeepSeek Summary\")\n",
    "fluency_metrics(meta_summary, \"Meta Summary\")\n",
    "fluency_metrics(moonshot_summary, \"Moonshot Summary\")\n"
   ]
  },
  {
   "cell_type": "code",
   "execution_count": null,
   "id": "0a72f879-f183-43f2-ba6c-96de713ed9dd",
   "metadata": {},
   "outputs": [],
   "source": []
  }
 ],
 "metadata": {
  "kernelspec": {
   "display_name": "Python 3 (ipykernel)",
   "language": "python",
   "name": "python3"
  },
  "language_info": {
   "codemirror_mode": {
    "name": "ipython",
    "version": 3
   },
   "file_extension": ".py",
   "mimetype": "text/x-python",
   "name": "python",
   "nbconvert_exporter": "python",
   "pygments_lexer": "ipython3",
   "version": "3.12.7"
  }
 },
 "nbformat": 4,
 "nbformat_minor": 5
}
